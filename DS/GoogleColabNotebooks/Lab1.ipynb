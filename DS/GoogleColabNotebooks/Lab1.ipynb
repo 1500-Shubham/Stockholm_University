{
  "cells": [
    {
      "cell_type": "markdown",
      "source": [
        "## Lab:1"
      ],
      "metadata": {
        "id": "5QtTbGaI_0Rv"
      },
      "id": "5QtTbGaI_0Rv"
    },
    {
      "cell_type": "code",
      "source": [
        "import numpy as np"
      ],
      "metadata": {
        "id": "DXbwbU7uiBQS"
      },
      "id": "DXbwbU7uiBQS",
      "execution_count": 1,
      "outputs": []
    },
    {
      "cell_type": "code",
      "source": [
        "a = np.asarray([1,2,3])\n",
        "print(a)"
      ],
      "metadata": {
        "id": "7jPG_llTiDVm",
        "outputId": "2e1fd276-7d24-4a65-aab2-65807f474f7c",
        "colab": {
          "base_uri": "https://localhost:8080/"
        }
      },
      "id": "7jPG_llTiDVm",
      "execution_count": 3,
      "outputs": [
        {
          "output_type": "stream",
          "name": "stdout",
          "text": [
            "[1 2 3]\n"
          ]
        }
      ]
    },
    {
      "cell_type": "markdown",
      "source": [
        "Question:\n",
        "passenger feedback into simple, useful insights so manager can make smart data driven decisions\n"
      ],
      "metadata": {
        "id": "bMTahBW0ikEI"
      },
      "id": "bMTahBW0ikEI"
    }
  ],
  "metadata": {
    "colab": {
      "provenance": []
    },
    "kernelspec": {
      "display_name": "Python 3",
      "name": "python3"
    },
    "language_info": {
      "name": "python"
    }
  },
  "nbformat": 4,
  "nbformat_minor": 5
}