{
  "cells": [
    {
      "cell_type": "markdown",
      "source": [
        "## Lab:1"
      ],
      "metadata": {
        "id": "5QtTbGaI_0Rv"
      },
      "id": "5QtTbGaI_0Rv"
    }
  ],
  "metadata": {
    "colab": {
      "provenance": []
    },
    "kernelspec": {
      "display_name": "Python 3",
      "name": "python3"
    },
    "language_info": {
      "name": "python"
    }
  },
  "nbformat": 4,
  "nbformat_minor": 5
}