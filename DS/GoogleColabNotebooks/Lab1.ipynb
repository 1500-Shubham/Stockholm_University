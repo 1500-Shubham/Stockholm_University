{
  "cells": [
    {
      "cell_type": "markdown",
      "source": [
        "## Lab:1 - My Summary"
      ],
      "metadata": {
        "id": "5QtTbGaI_0Rv"
      },
      "id": "5QtTbGaI_0Rv"
    },
    {
      "cell_type": "markdown",
      "source": [
        "Load Data"
      ],
      "metadata": {
        "id": "Z_6An4CfNbzP"
      },
      "id": "Z_6An4CfNbzP"
    },
    {
      "cell_type": "code",
      "source": [
        "import pandas as pd                               # For working with datasets (loading, cleaning, etc.)\n",
        "import numpy as np"
      ],
      "metadata": {
        "id": "0zltCgewNYqN"
      },
      "id": "0zltCgewNYqN",
      "execution_count": 2,
      "outputs": []
    },
    {
      "cell_type": "code",
      "source": [
        "df = pd.read_csv(\"/content/airline_satisfaction_missing.csv\")\n",
        "df.head()"
      ],
      "metadata": {
        "id": "LMOAClWtNczh",
        "outputId": "cd6a9472-9722-4307-a0e3-f292814df028",
        "colab": {
          "base_uri": "https://localhost:8080/",
          "height": 394
        }
      },
      "id": "LMOAClWtNczh",
      "execution_count": 3,
      "outputs": [
        {
          "output_type": "execute_result",
          "data": {
            "text/plain": [
              "   Unnamed: 0      id  Gender      Customer Type  Age   Type of Travel  \\\n",
              "0           0   70172    Male     Loyal Customer   13  Personal Travel   \n",
              "1           1    5047    Male  disloyal Customer   25  Business travel   \n",
              "2           2  110028  Female     Loyal Customer   26  Business travel   \n",
              "3           3   24026  Female     Loyal Customer   25  Business travel   \n",
              "4           4  119299    Male     Loyal Customer   61  Business travel   \n",
              "\n",
              "      Class  Flight Distance  Inflight wifi service  \\\n",
              "0  Eco Plus              460                      3   \n",
              "1  Business              235                      3   \n",
              "2  Business             1142                      2   \n",
              "3  Business              562                      2   \n",
              "4  Business              214                      3   \n",
              "\n",
              "   Departure/Arrival time convenient  ...  On-board service  Leg room service  \\\n",
              "0                                  4  ...                 4                 3   \n",
              "1                                  2  ...                 1                 5   \n",
              "2                                  2  ...                 4                 3   \n",
              "3                                  5  ...                 2                 5   \n",
              "4                                  3  ...                 3                 4   \n",
              "\n",
              "   Baggage handling  Checkin service  Inflight service  Cleanliness  \\\n",
              "0                 4                4                 5            5   \n",
              "1                 3                1                 4            1   \n",
              "2                 4                4                 4            5   \n",
              "3                 3                1                 4            2   \n",
              "4                 4                3                 3            3   \n",
              "\n",
              "   Departure Delay in Minutes  Arrival Delay in Minutes  \\\n",
              "0                          25                      18.0   \n",
              "1                           1                       6.0   \n",
              "2                           0                       0.0   \n",
              "3                          11                       9.0   \n",
              "4                           0                       0.0   \n",
              "\n",
              "              satisfaction  target  \n",
              "0  neutral or dissatisfied       0  \n",
              "1  neutral or dissatisfied       0  \n",
              "2                satisfied       1  \n",
              "3  neutral or dissatisfied       0  \n",
              "4                satisfied       1  \n",
              "\n",
              "[5 rows x 26 columns]"
            ],
            "text/html": [
              "\n",
              "  <div id=\"df-0f97cd52-de68-4cbf-97d5-3110d6cbc6b0\" class=\"colab-df-container\">\n",
              "    <div>\n",
              "<style scoped>\n",
              "    .dataframe tbody tr th:only-of-type {\n",
              "        vertical-align: middle;\n",
              "    }\n",
              "\n",
              "    .dataframe tbody tr th {\n",
              "        vertical-align: top;\n",
              "    }\n",
              "\n",
              "    .dataframe thead th {\n",
              "        text-align: right;\n",
              "    }\n",
              "</style>\n",
              "<table border=\"1\" class=\"dataframe\">\n",
              "  <thead>\n",
              "    <tr style=\"text-align: right;\">\n",
              "      <th></th>\n",
              "      <th>Unnamed: 0</th>\n",
              "      <th>id</th>\n",
              "      <th>Gender</th>\n",
              "      <th>Customer Type</th>\n",
              "      <th>Age</th>\n",
              "      <th>Type of Travel</th>\n",
              "      <th>Class</th>\n",
              "      <th>Flight Distance</th>\n",
              "      <th>Inflight wifi service</th>\n",
              "      <th>Departure/Arrival time convenient</th>\n",
              "      <th>...</th>\n",
              "      <th>On-board service</th>\n",
              "      <th>Leg room service</th>\n",
              "      <th>Baggage handling</th>\n",
              "      <th>Checkin service</th>\n",
              "      <th>Inflight service</th>\n",
              "      <th>Cleanliness</th>\n",
              "      <th>Departure Delay in Minutes</th>\n",
              "      <th>Arrival Delay in Minutes</th>\n",
              "      <th>satisfaction</th>\n",
              "      <th>target</th>\n",
              "    </tr>\n",
              "  </thead>\n",
              "  <tbody>\n",
              "    <tr>\n",
              "      <th>0</th>\n",
              "      <td>0</td>\n",
              "      <td>70172</td>\n",
              "      <td>Male</td>\n",
              "      <td>Loyal Customer</td>\n",
              "      <td>13</td>\n",
              "      <td>Personal Travel</td>\n",
              "      <td>Eco Plus</td>\n",
              "      <td>460</td>\n",
              "      <td>3</td>\n",
              "      <td>4</td>\n",
              "      <td>...</td>\n",
              "      <td>4</td>\n",
              "      <td>3</td>\n",
              "      <td>4</td>\n",
              "      <td>4</td>\n",
              "      <td>5</td>\n",
              "      <td>5</td>\n",
              "      <td>25</td>\n",
              "      <td>18.0</td>\n",
              "      <td>neutral or dissatisfied</td>\n",
              "      <td>0</td>\n",
              "    </tr>\n",
              "    <tr>\n",
              "      <th>1</th>\n",
              "      <td>1</td>\n",
              "      <td>5047</td>\n",
              "      <td>Male</td>\n",
              "      <td>disloyal Customer</td>\n",
              "      <td>25</td>\n",
              "      <td>Business travel</td>\n",
              "      <td>Business</td>\n",
              "      <td>235</td>\n",
              "      <td>3</td>\n",
              "      <td>2</td>\n",
              "      <td>...</td>\n",
              "      <td>1</td>\n",
              "      <td>5</td>\n",
              "      <td>3</td>\n",
              "      <td>1</td>\n",
              "      <td>4</td>\n",
              "      <td>1</td>\n",
              "      <td>1</td>\n",
              "      <td>6.0</td>\n",
              "      <td>neutral or dissatisfied</td>\n",
              "      <td>0</td>\n",
              "    </tr>\n",
              "    <tr>\n",
              "      <th>2</th>\n",
              "      <td>2</td>\n",
              "      <td>110028</td>\n",
              "      <td>Female</td>\n",
              "      <td>Loyal Customer</td>\n",
              "      <td>26</td>\n",
              "      <td>Business travel</td>\n",
              "      <td>Business</td>\n",
              "      <td>1142</td>\n",
              "      <td>2</td>\n",
              "      <td>2</td>\n",
              "      <td>...</td>\n",
              "      <td>4</td>\n",
              "      <td>3</td>\n",
              "      <td>4</td>\n",
              "      <td>4</td>\n",
              "      <td>4</td>\n",
              "      <td>5</td>\n",
              "      <td>0</td>\n",
              "      <td>0.0</td>\n",
              "      <td>satisfied</td>\n",
              "      <td>1</td>\n",
              "    </tr>\n",
              "    <tr>\n",
              "      <th>3</th>\n",
              "      <td>3</td>\n",
              "      <td>24026</td>\n",
              "      <td>Female</td>\n",
              "      <td>Loyal Customer</td>\n",
              "      <td>25</td>\n",
              "      <td>Business travel</td>\n",
              "      <td>Business</td>\n",
              "      <td>562</td>\n",
              "      <td>2</td>\n",
              "      <td>5</td>\n",
              "      <td>...</td>\n",
              "      <td>2</td>\n",
              "      <td>5</td>\n",
              "      <td>3</td>\n",
              "      <td>1</td>\n",
              "      <td>4</td>\n",
              "      <td>2</td>\n",
              "      <td>11</td>\n",
              "      <td>9.0</td>\n",
              "      <td>neutral or dissatisfied</td>\n",
              "      <td>0</td>\n",
              "    </tr>\n",
              "    <tr>\n",
              "      <th>4</th>\n",
              "      <td>4</td>\n",
              "      <td>119299</td>\n",
              "      <td>Male</td>\n",
              "      <td>Loyal Customer</td>\n",
              "      <td>61</td>\n",
              "      <td>Business travel</td>\n",
              "      <td>Business</td>\n",
              "      <td>214</td>\n",
              "      <td>3</td>\n",
              "      <td>3</td>\n",
              "      <td>...</td>\n",
              "      <td>3</td>\n",
              "      <td>4</td>\n",
              "      <td>4</td>\n",
              "      <td>3</td>\n",
              "      <td>3</td>\n",
              "      <td>3</td>\n",
              "      <td>0</td>\n",
              "      <td>0.0</td>\n",
              "      <td>satisfied</td>\n",
              "      <td>1</td>\n",
              "    </tr>\n",
              "  </tbody>\n",
              "</table>\n",
              "<p>5 rows × 26 columns</p>\n",
              "</div>\n",
              "    <div class=\"colab-df-buttons\">\n",
              "\n",
              "  <div class=\"colab-df-container\">\n",
              "    <button class=\"colab-df-convert\" onclick=\"convertToInteractive('df-0f97cd52-de68-4cbf-97d5-3110d6cbc6b0')\"\n",
              "            title=\"Convert this dataframe to an interactive table.\"\n",
              "            style=\"display:none;\">\n",
              "\n",
              "  <svg xmlns=\"http://www.w3.org/2000/svg\" height=\"24px\" viewBox=\"0 -960 960 960\">\n",
              "    <path d=\"M120-120v-720h720v720H120Zm60-500h600v-160H180v160Zm220 220h160v-160H400v160Zm0 220h160v-160H400v160ZM180-400h160v-160H180v160Zm440 0h160v-160H620v160ZM180-180h160v-160H180v160Zm440 0h160v-160H620v160Z\"/>\n",
              "  </svg>\n",
              "    </button>\n",
              "\n",
              "  <style>\n",
              "    .colab-df-container {\n",
              "      display:flex;\n",
              "      gap: 12px;\n",
              "    }\n",
              "\n",
              "    .colab-df-convert {\n",
              "      background-color: #E8F0FE;\n",
              "      border: none;\n",
              "      border-radius: 50%;\n",
              "      cursor: pointer;\n",
              "      display: none;\n",
              "      fill: #1967D2;\n",
              "      height: 32px;\n",
              "      padding: 0 0 0 0;\n",
              "      width: 32px;\n",
              "    }\n",
              "\n",
              "    .colab-df-convert:hover {\n",
              "      background-color: #E2EBFA;\n",
              "      box-shadow: 0px 1px 2px rgba(60, 64, 67, 0.3), 0px 1px 3px 1px rgba(60, 64, 67, 0.15);\n",
              "      fill: #174EA6;\n",
              "    }\n",
              "\n",
              "    .colab-df-buttons div {\n",
              "      margin-bottom: 4px;\n",
              "    }\n",
              "\n",
              "    [theme=dark] .colab-df-convert {\n",
              "      background-color: #3B4455;\n",
              "      fill: #D2E3FC;\n",
              "    }\n",
              "\n",
              "    [theme=dark] .colab-df-convert:hover {\n",
              "      background-color: #434B5C;\n",
              "      box-shadow: 0px 1px 3px 1px rgba(0, 0, 0, 0.15);\n",
              "      filter: drop-shadow(0px 1px 2px rgba(0, 0, 0, 0.3));\n",
              "      fill: #FFFFFF;\n",
              "    }\n",
              "  </style>\n",
              "\n",
              "    <script>\n",
              "      const buttonEl =\n",
              "        document.querySelector('#df-0f97cd52-de68-4cbf-97d5-3110d6cbc6b0 button.colab-df-convert');\n",
              "      buttonEl.style.display =\n",
              "        google.colab.kernel.accessAllowed ? 'block' : 'none';\n",
              "\n",
              "      async function convertToInteractive(key) {\n",
              "        const element = document.querySelector('#df-0f97cd52-de68-4cbf-97d5-3110d6cbc6b0');\n",
              "        const dataTable =\n",
              "          await google.colab.kernel.invokeFunction('convertToInteractive',\n",
              "                                                    [key], {});\n",
              "        if (!dataTable) return;\n",
              "\n",
              "        const docLinkHtml = 'Like what you see? Visit the ' +\n",
              "          '<a target=\"_blank\" href=https://colab.research.google.com/notebooks/data_table.ipynb>data table notebook</a>'\n",
              "          + ' to learn more about interactive tables.';\n",
              "        element.innerHTML = '';\n",
              "        dataTable['output_type'] = 'display_data';\n",
              "        await google.colab.output.renderOutput(dataTable, element);\n",
              "        const docLink = document.createElement('div');\n",
              "        docLink.innerHTML = docLinkHtml;\n",
              "        element.appendChild(docLink);\n",
              "      }\n",
              "    </script>\n",
              "  </div>\n",
              "\n",
              "\n",
              "    <div id=\"df-f48911b2-3f7e-4170-b728-a141e534ee52\">\n",
              "      <button class=\"colab-df-quickchart\" onclick=\"quickchart('df-f48911b2-3f7e-4170-b728-a141e534ee52')\"\n",
              "                title=\"Suggest charts\"\n",
              "                style=\"display:none;\">\n",
              "\n",
              "<svg xmlns=\"http://www.w3.org/2000/svg\" height=\"24px\"viewBox=\"0 0 24 24\"\n",
              "     width=\"24px\">\n",
              "    <g>\n",
              "        <path d=\"M19 3H5c-1.1 0-2 .9-2 2v14c0 1.1.9 2 2 2h14c1.1 0 2-.9 2-2V5c0-1.1-.9-2-2-2zM9 17H7v-7h2v7zm4 0h-2V7h2v10zm4 0h-2v-4h2v4z\"/>\n",
              "    </g>\n",
              "</svg>\n",
              "      </button>\n",
              "\n",
              "<style>\n",
              "  .colab-df-quickchart {\n",
              "      --bg-color: #E8F0FE;\n",
              "      --fill-color: #1967D2;\n",
              "      --hover-bg-color: #E2EBFA;\n",
              "      --hover-fill-color: #174EA6;\n",
              "      --disabled-fill-color: #AAA;\n",
              "      --disabled-bg-color: #DDD;\n",
              "  }\n",
              "\n",
              "  [theme=dark] .colab-df-quickchart {\n",
              "      --bg-color: #3B4455;\n",
              "      --fill-color: #D2E3FC;\n",
              "      --hover-bg-color: #434B5C;\n",
              "      --hover-fill-color: #FFFFFF;\n",
              "      --disabled-bg-color: #3B4455;\n",
              "      --disabled-fill-color: #666;\n",
              "  }\n",
              "\n",
              "  .colab-df-quickchart {\n",
              "    background-color: var(--bg-color);\n",
              "    border: none;\n",
              "    border-radius: 50%;\n",
              "    cursor: pointer;\n",
              "    display: none;\n",
              "    fill: var(--fill-color);\n",
              "    height: 32px;\n",
              "    padding: 0;\n",
              "    width: 32px;\n",
              "  }\n",
              "\n",
              "  .colab-df-quickchart:hover {\n",
              "    background-color: var(--hover-bg-color);\n",
              "    box-shadow: 0 1px 2px rgba(60, 64, 67, 0.3), 0 1px 3px 1px rgba(60, 64, 67, 0.15);\n",
              "    fill: var(--button-hover-fill-color);\n",
              "  }\n",
              "\n",
              "  .colab-df-quickchart-complete:disabled,\n",
              "  .colab-df-quickchart-complete:disabled:hover {\n",
              "    background-color: var(--disabled-bg-color);\n",
              "    fill: var(--disabled-fill-color);\n",
              "    box-shadow: none;\n",
              "  }\n",
              "\n",
              "  .colab-df-spinner {\n",
              "    border: 2px solid var(--fill-color);\n",
              "    border-color: transparent;\n",
              "    border-bottom-color: var(--fill-color);\n",
              "    animation:\n",
              "      spin 1s steps(1) infinite;\n",
              "  }\n",
              "\n",
              "  @keyframes spin {\n",
              "    0% {\n",
              "      border-color: transparent;\n",
              "      border-bottom-color: var(--fill-color);\n",
              "      border-left-color: var(--fill-color);\n",
              "    }\n",
              "    20% {\n",
              "      border-color: transparent;\n",
              "      border-left-color: var(--fill-color);\n",
              "      border-top-color: var(--fill-color);\n",
              "    }\n",
              "    30% {\n",
              "      border-color: transparent;\n",
              "      border-left-color: var(--fill-color);\n",
              "      border-top-color: var(--fill-color);\n",
              "      border-right-color: var(--fill-color);\n",
              "    }\n",
              "    40% {\n",
              "      border-color: transparent;\n",
              "      border-right-color: var(--fill-color);\n",
              "      border-top-color: var(--fill-color);\n",
              "    }\n",
              "    60% {\n",
              "      border-color: transparent;\n",
              "      border-right-color: var(--fill-color);\n",
              "    }\n",
              "    80% {\n",
              "      border-color: transparent;\n",
              "      border-right-color: var(--fill-color);\n",
              "      border-bottom-color: var(--fill-color);\n",
              "    }\n",
              "    90% {\n",
              "      border-color: transparent;\n",
              "      border-bottom-color: var(--fill-color);\n",
              "    }\n",
              "  }\n",
              "</style>\n",
              "\n",
              "      <script>\n",
              "        async function quickchart(key) {\n",
              "          const quickchartButtonEl =\n",
              "            document.querySelector('#' + key + ' button');\n",
              "          quickchartButtonEl.disabled = true;  // To prevent multiple clicks.\n",
              "          quickchartButtonEl.classList.add('colab-df-spinner');\n",
              "          try {\n",
              "            const charts = await google.colab.kernel.invokeFunction(\n",
              "                'suggestCharts', [key], {});\n",
              "          } catch (error) {\n",
              "            console.error('Error during call to suggestCharts:', error);\n",
              "          }\n",
              "          quickchartButtonEl.classList.remove('colab-df-spinner');\n",
              "          quickchartButtonEl.classList.add('colab-df-quickchart-complete');\n",
              "        }\n",
              "        (() => {\n",
              "          let quickchartButtonEl =\n",
              "            document.querySelector('#df-f48911b2-3f7e-4170-b728-a141e534ee52 button');\n",
              "          quickchartButtonEl.style.display =\n",
              "            google.colab.kernel.accessAllowed ? 'block' : 'none';\n",
              "        })();\n",
              "      </script>\n",
              "    </div>\n",
              "\n",
              "    </div>\n",
              "  </div>\n"
            ],
            "application/vnd.google.colaboratory.intrinsic+json": {
              "type": "dataframe",
              "variable_name": "df"
            }
          },
          "metadata": {},
          "execution_count": 3
        }
      ]
    },
    {
      "cell_type": "code",
      "source": [
        "df.shape"
      ],
      "metadata": {
        "id": "E6qVu3AUNofb",
        "outputId": "4a75fcff-d776-419d-c8cf-0f9ceedd31e8",
        "colab": {
          "base_uri": "https://localhost:8080/"
        }
      },
      "id": "E6qVu3AUNofb",
      "execution_count": 5,
      "outputs": [
        {
          "output_type": "execute_result",
          "data": {
            "text/plain": [
              "(103904, 26)"
            ]
          },
          "metadata": {},
          "execution_count": 5
        }
      ]
    },
    {
      "cell_type": "code",
      "source": [
        "df.isnull().sum()"
      ],
      "metadata": {
        "id": "sWf5ZqD0NlHF",
        "outputId": "cb913e76-77db-4faa-e04d-3262cea067fb",
        "colab": {
          "base_uri": "https://localhost:8080/",
          "height": 899
        }
      },
      "id": "sWf5ZqD0NlHF",
      "execution_count": 4,
      "outputs": [
        {
          "output_type": "execute_result",
          "data": {
            "text/plain": [
              "Unnamed: 0                              0\n",
              "id                                      0\n",
              "Gender                                  0\n",
              "Customer Type                           0\n",
              "Age                                     0\n",
              "Type of Travel                          0\n",
              "Class                                   0\n",
              "Flight Distance                         0\n",
              "Inflight wifi service                   0\n",
              "Departure/Arrival time convenient       0\n",
              "Ease of Online booking                  0\n",
              "Gate location                           0\n",
              "Food and drink                          0\n",
              "Online boarding                         0\n",
              "Seat comfort                         1039\n",
              "Inflight entertainment                  0\n",
              "On-board service                        0\n",
              "Leg room service                        0\n",
              "Baggage handling                        0\n",
              "Checkin service                         0\n",
              "Inflight service                        0\n",
              "Cleanliness                             0\n",
              "Departure Delay in Minutes              0\n",
              "Arrival Delay in Minutes             1345\n",
              "satisfaction                            0\n",
              "target                                  0\n",
              "dtype: int64"
            ],
            "text/html": [
              "<div>\n",
              "<style scoped>\n",
              "    .dataframe tbody tr th:only-of-type {\n",
              "        vertical-align: middle;\n",
              "    }\n",
              "\n",
              "    .dataframe tbody tr th {\n",
              "        vertical-align: top;\n",
              "    }\n",
              "\n",
              "    .dataframe thead th {\n",
              "        text-align: right;\n",
              "    }\n",
              "</style>\n",
              "<table border=\"1\" class=\"dataframe\">\n",
              "  <thead>\n",
              "    <tr style=\"text-align: right;\">\n",
              "      <th></th>\n",
              "      <th>0</th>\n",
              "    </tr>\n",
              "  </thead>\n",
              "  <tbody>\n",
              "    <tr>\n",
              "      <th>Unnamed: 0</th>\n",
              "      <td>0</td>\n",
              "    </tr>\n",
              "    <tr>\n",
              "      <th>id</th>\n",
              "      <td>0</td>\n",
              "    </tr>\n",
              "    <tr>\n",
              "      <th>Gender</th>\n",
              "      <td>0</td>\n",
              "    </tr>\n",
              "    <tr>\n",
              "      <th>Customer Type</th>\n",
              "      <td>0</td>\n",
              "    </tr>\n",
              "    <tr>\n",
              "      <th>Age</th>\n",
              "      <td>0</td>\n",
              "    </tr>\n",
              "    <tr>\n",
              "      <th>Type of Travel</th>\n",
              "      <td>0</td>\n",
              "    </tr>\n",
              "    <tr>\n",
              "      <th>Class</th>\n",
              "      <td>0</td>\n",
              "    </tr>\n",
              "    <tr>\n",
              "      <th>Flight Distance</th>\n",
              "      <td>0</td>\n",
              "    </tr>\n",
              "    <tr>\n",
              "      <th>Inflight wifi service</th>\n",
              "      <td>0</td>\n",
              "    </tr>\n",
              "    <tr>\n",
              "      <th>Departure/Arrival time convenient</th>\n",
              "      <td>0</td>\n",
              "    </tr>\n",
              "    <tr>\n",
              "      <th>Ease of Online booking</th>\n",
              "      <td>0</td>\n",
              "    </tr>\n",
              "    <tr>\n",
              "      <th>Gate location</th>\n",
              "      <td>0</td>\n",
              "    </tr>\n",
              "    <tr>\n",
              "      <th>Food and drink</th>\n",
              "      <td>0</td>\n",
              "    </tr>\n",
              "    <tr>\n",
              "      <th>Online boarding</th>\n",
              "      <td>0</td>\n",
              "    </tr>\n",
              "    <tr>\n",
              "      <th>Seat comfort</th>\n",
              "      <td>1039</td>\n",
              "    </tr>\n",
              "    <tr>\n",
              "      <th>Inflight entertainment</th>\n",
              "      <td>0</td>\n",
              "    </tr>\n",
              "    <tr>\n",
              "      <th>On-board service</th>\n",
              "      <td>0</td>\n",
              "    </tr>\n",
              "    <tr>\n",
              "      <th>Leg room service</th>\n",
              "      <td>0</td>\n",
              "    </tr>\n",
              "    <tr>\n",
              "      <th>Baggage handling</th>\n",
              "      <td>0</td>\n",
              "    </tr>\n",
              "    <tr>\n",
              "      <th>Checkin service</th>\n",
              "      <td>0</td>\n",
              "    </tr>\n",
              "    <tr>\n",
              "      <th>Inflight service</th>\n",
              "      <td>0</td>\n",
              "    </tr>\n",
              "    <tr>\n",
              "      <th>Cleanliness</th>\n",
              "      <td>0</td>\n",
              "    </tr>\n",
              "    <tr>\n",
              "      <th>Departure Delay in Minutes</th>\n",
              "      <td>0</td>\n",
              "    </tr>\n",
              "    <tr>\n",
              "      <th>Arrival Delay in Minutes</th>\n",
              "      <td>1345</td>\n",
              "    </tr>\n",
              "    <tr>\n",
              "      <th>satisfaction</th>\n",
              "      <td>0</td>\n",
              "    </tr>\n",
              "    <tr>\n",
              "      <th>target</th>\n",
              "      <td>0</td>\n",
              "    </tr>\n",
              "  </tbody>\n",
              "</table>\n",
              "</div><br><label><b>dtype:</b> int64</label>"
            ]
          },
          "metadata": {},
          "execution_count": 4
        }
      ]
    },
    {
      "cell_type": "markdown",
      "source": [
        "### EDA\n",
        "- Get 2-3 factors impacting target"
      ],
      "metadata": {
        "id": "3dTmOi7RObDr"
      },
      "id": "3dTmOi7RObDr"
    },
    {
      "cell_type": "code",
      "source": [
        "# Target count\n",
        "x= df['target'].value_counts()\n",
        "percentage = x/len(df)*100\n",
        "print(percentage)\n",
        "# The dataset is reasonably balanced, with a slightly higher proportion of not satisfied passengers."
      ],
      "metadata": {
        "id": "5IMQwejhObvJ",
        "outputId": "c18f0aed-7606-46cd-f8f4-82dc59216bb8",
        "colab": {
          "base_uri": "https://localhost:8080/"
        }
      },
      "id": "5IMQwejhObvJ",
      "execution_count": 11,
      "outputs": [
        {
          "output_type": "stream",
          "name": "stdout",
          "text": [
            "target\n",
            "0    56.666731\n",
            "1    43.333269\n",
            "Name: count, dtype: float64\n"
          ]
        }
      ]
    },
    {
      "cell_type": "code",
      "source": [
        "df.shape"
      ],
      "metadata": {
        "id": "w7NJH6ENPCtG",
        "outputId": "173d67b8-c732-4a96-eea5-0df0edad340a",
        "colab": {
          "base_uri": "https://localhost:8080/"
        }
      },
      "id": "w7NJH6ENPCtG",
      "execution_count": 12,
      "outputs": [
        {
          "output_type": "execute_result",
          "data": {
            "text/plain": [
              "(103904, 26)"
            ]
          },
          "metadata": {},
          "execution_count": 12
        }
      ]
    },
    {
      "cell_type": "code",
      "source": [
        "# dropping column\n",
        "non_feature_columns = [\"Unnamed: 0\", \"id\", \"satisfaction\", \"target\"]\n",
        "df_new = df.drop(non_feature_columns, axis=1)\n",
        "df_new.head()\n",
        "df_new.shape"
      ],
      "metadata": {
        "id": "It_72q5GPLut",
        "outputId": "c7d332c0-0c74-4c47-a7f5-256d8e391b42",
        "colab": {
          "base_uri": "https://localhost:8080/"
        }
      },
      "id": "It_72q5GPLut",
      "execution_count": 14,
      "outputs": [
        {
          "output_type": "execute_result",
          "data": {
            "text/plain": [
              "(103904, 22)"
            ]
          },
          "metadata": {},
          "execution_count": 14
        }
      ]
    },
    {
      "cell_type": "code",
      "source": [
        "# types of data and category split\n",
        "df_new.info()"
      ],
      "metadata": {
        "id": "jTRkRroCPW9f",
        "outputId": "05dfa08b-fa92-454e-e904-0e3812e76581",
        "colab": {
          "base_uri": "https://localhost:8080/"
        }
      },
      "id": "jTRkRroCPW9f",
      "execution_count": 15,
      "outputs": [
        {
          "output_type": "stream",
          "name": "stdout",
          "text": [
            "<class 'pandas.core.frame.DataFrame'>\n",
            "RangeIndex: 103904 entries, 0 to 103903\n",
            "Data columns (total 22 columns):\n",
            " #   Column                             Non-Null Count   Dtype  \n",
            "---  ------                             --------------   -----  \n",
            " 0   Gender                             103904 non-null  object \n",
            " 1   Customer Type                      103904 non-null  object \n",
            " 2   Age                                103904 non-null  int64  \n",
            " 3   Type of Travel                     103904 non-null  object \n",
            " 4   Class                              103904 non-null  object \n",
            " 5   Flight Distance                    103904 non-null  int64  \n",
            " 6   Inflight wifi service              103904 non-null  int64  \n",
            " 7   Departure/Arrival time convenient  103904 non-null  int64  \n",
            " 8   Ease of Online booking             103904 non-null  int64  \n",
            " 9   Gate location                      103904 non-null  int64  \n",
            " 10  Food and drink                     103904 non-null  int64  \n",
            " 11  Online boarding                    103904 non-null  int64  \n",
            " 12  Seat comfort                       102865 non-null  float64\n",
            " 13  Inflight entertainment             103904 non-null  int64  \n",
            " 14  On-board service                   103904 non-null  int64  \n",
            " 15  Leg room service                   103904 non-null  int64  \n",
            " 16  Baggage handling                   103904 non-null  int64  \n",
            " 17  Checkin service                    103904 non-null  int64  \n",
            " 18  Inflight service                   103904 non-null  int64  \n",
            " 19  Cleanliness                        103904 non-null  int64  \n",
            " 20  Departure Delay in Minutes         103904 non-null  int64  \n",
            " 21  Arrival Delay in Minutes           102559 non-null  float64\n",
            "dtypes: float64(2), int64(16), object(4)\n",
            "memory usage: 17.4+ MB\n"
          ]
        }
      ]
    },
    {
      "cell_type": "code",
      "source": [
        "df.dtypes.to_string()"
      ],
      "metadata": {
        "id": "E0P-GbAdQEv9",
        "outputId": "3f8ba050-2b50-49a2-ff8a-75762369333d",
        "colab": {
          "base_uri": "https://localhost:8080/",
          "height": 143
        }
      },
      "id": "E0P-GbAdQEv9",
      "execution_count": 29,
      "outputs": [
        {
          "output_type": "execute_result",
          "data": {
            "text/plain": [
              "'Unnamed: 0                             int64\\nid                                     int64\\nGender                                object\\nCustomer Type                         object\\nAge                                    int64\\nType of Travel                        object\\nClass                                 object\\nFlight Distance                        int64\\nInflight wifi service                  int64\\nDeparture/Arrival time convenient      int64\\nEase of Online booking                 int64\\nGate location                          int64\\nFood and drink                         int64\\nOnline boarding                        int64\\nSeat comfort                         float64\\nInflight entertainment                 int64\\nOn-board service                       int64\\nLeg room service                       int64\\nBaggage handling                       int64\\nCheckin service                        int64\\nInflight service                       int64\\nCleanliness                            int64\\nDeparture Delay in Minutes             int64\\nArrival Delay in Minutes             float64\\nsatisfaction                          object\\ntarget                                 int64'"
            ],
            "application/vnd.google.colaboratory.intrinsic+json": {
              "type": "string"
            }
          },
          "metadata": {},
          "execution_count": 29
        }
      ]
    },
    {
      "cell_type": "code",
      "source": [
        "categorical_columns = df_new.select_dtypes(include=['object']).columns.tolist()\n",
        "print(categorical_columns,type(categorical_columns))\n",
        "categorical_columns = df_new.select_dtypes(include=['object']).columns.tolist()\n",
        "print(categorical_columns,type(categorical_columns))\n",
        "\n",
        "numerical_columns = df_new.select_dtypes(include=['number']).columns.tolist()\n",
        "print(numerical_columns,type(numerical_columns))"
      ],
      "metadata": {
        "id": "35gB3AtRPf7L",
        "outputId": "34332aaf-750b-473f-99f9-578c92cbad2f",
        "colab": {
          "base_uri": "https://localhost:8080/"
        }
      },
      "id": "35gB3AtRPf7L",
      "execution_count": 34,
      "outputs": [
        {
          "output_type": "stream",
          "name": "stdout",
          "text": [
            "['Gender', 'Customer Type', 'Type of Travel', 'Class'] <class 'list'>\n",
            "['Gender', 'Customer Type', 'Type of Travel', 'Class'] <class 'list'>\n",
            "['Age', 'Flight Distance', 'Inflight wifi service', 'Departure/Arrival time convenient', 'Ease of Online booking', 'Gate location', 'Food and drink', 'Online boarding', 'Seat comfort', 'Inflight entertainment', 'On-board service', 'Leg room service', 'Baggage handling', 'Checkin service', 'Inflight service', 'Cleanliness', 'Departure Delay in Minutes', 'Arrival Delay in Minutes'] <class 'list'>\n"
          ]
        }
      ]
    },
    {
      "cell_type": "markdown",
      "source": [
        "Missing Values Fixes\n",
        ": Numerical columns : median se replace\n",
        ": Categorical columns : mode se replace"
      ],
      "metadata": {
        "id": "0S0piuL2QM7n"
      },
      "id": "0S0piuL2QM7n"
    },
    {
      "cell_type": "code",
      "source": [
        "df_new.isna().sum()"
      ],
      "metadata": {
        "id": "brIEuWLuP9P-"
      },
      "id": "brIEuWLuP9P-",
      "execution_count": null,
      "outputs": []
    },
    {
      "cell_type": "markdown",
      "source": [
        "Handling Missing Values:\n",
        "- use imputers for columns\n",
        "- df[column].fillna() method can be used too"
      ],
      "metadata": {
        "id": "bl7AvdxmSL26"
      },
      "id": "bl7AvdxmSL26"
    },
    {
      "cell_type": "code",
      "source": [
        "df['Seat comfort'].isnull().sum()"
      ],
      "metadata": {
        "id": "-WqL9LDuSrjC",
        "outputId": "64cfa5f9-4563-4b18-95cf-d5477bd6ed8d",
        "colab": {
          "base_uri": "https://localhost:8080/"
        }
      },
      "id": "-WqL9LDuSrjC",
      "execution_count": 40,
      "outputs": [
        {
          "output_type": "execute_result",
          "data": {
            "text/plain": [
              "np.int64(1039)"
            ]
          },
          "metadata": {},
          "execution_count": 40
        }
      ]
    },
    {
      "cell_type": "code",
      "source": [
        "df['Gender'].mode()"
      ],
      "metadata": {
        "id": "ozdCTdVMS9WI",
        "outputId": "86f88870-53ea-41f5-cdbb-648101d45385",
        "colab": {
          "base_uri": "https://localhost:8080/",
          "height": 35
        }
      },
      "id": "ozdCTdVMS9WI",
      "execution_count": 42,
      "outputs": [
        {
          "output_type": "execute_result",
          "data": {
            "text/plain": [
              "'Female'"
            ],
            "application/vnd.google.colaboratory.intrinsic+json": {
              "type": "string"
            }
          },
          "metadata": {},
          "execution_count": 42
        }
      ]
    },
    {
      "cell_type": "code",
      "source": [
        "# My style of handling missing values\n",
        "for item in numerical_columns:\n",
        "  print(item)\n",
        "  df[item].fillna(df[item].median(), inplace=True)\n",
        "\n",
        "for item in categorical_columns:\n",
        "  print(item)\n",
        "  df[item].fillna(df[item].mode()[0], inplace=True)"
      ],
      "metadata": {
        "id": "UJ4XlX4lQh7G"
      },
      "id": "UJ4XlX4lQh7G",
      "execution_count": null,
      "outputs": []
    },
    {
      "cell_type": "markdown",
      "source": [
        "Using Imputers for missing values\n",
        "- For each numeric column in num_data:\n",
        "\n",
        "  Compute the median (since you set strategy=\"median\").\n",
        "\n",
        "  Store these medians inside the imputer object.\n",
        "\n",
        "- But fit_transform() always returns a NumPy array, not a DataFrame.\n",
        "\n",
        "  Shape = (n_samples, n_features)\n",
        "\n",
        "  Column names are lost.\n",
        "\n",
        "  Need to wrap in pd.Dataframe()"
      ],
      "metadata": {
        "id": "f-kuvcVmTKEL"
      },
      "id": "f-kuvcVmTKEL"
    },
    {
      "cell_type": "code",
      "source": [
        "# Split the dataset into numeric and categorical subsets\n",
        "num_data = df[numerical_columns]\n",
        "cat_data = df[categorical_columns]\n",
        "cat_data.head()\n",
        "print(type(num_data))"
      ],
      "metadata": {
        "id": "7vq76dp5TMbO",
        "outputId": "497f6e81-6eb5-4dd7-d130-8c04a1c60dfc",
        "colab": {
          "base_uri": "https://localhost:8080/"
        }
      },
      "id": "7vq76dp5TMbO",
      "execution_count": 47,
      "outputs": [
        {
          "output_type": "stream",
          "name": "stdout",
          "text": [
            "<class 'pandas.core.frame.DataFrame'>\n"
          ]
        }
      ]
    },
    {
      "cell_type": "code",
      "source": [
        "from sklearn.impute import SimpleImputer"
      ],
      "metadata": {
        "id": "noY7xs38Ua8R"
      },
      "id": "noY7xs38Ua8R",
      "execution_count": 48,
      "outputs": []
    },
    {
      "cell_type": "code",
      "source": [
        "num_imputer = SimpleImputer(strategy=\"median\")\n",
        "cat_imputer = SimpleImputer(strategy=\"most_frequent\")\n",
        "\n",
        "a = num_imputer.fit_transform(num_data)\n",
        "# all missing values are handled\n",
        "b = cat_imputer.fit_transform(cat_data)\n",
        "\n",
        "print(a,type(a))"
      ],
      "metadata": {
        "id": "KOD-KJc8UYqe",
        "outputId": "ad6ea0b8-7da4-457e-e1a4-af47b80e63d1",
        "colab": {
          "base_uri": "https://localhost:8080/"
        }
      },
      "id": "KOD-KJc8UYqe",
      "execution_count": 51,
      "outputs": [
        {
          "output_type": "stream",
          "name": "stdout",
          "text": [
            "[[1.300e+01 4.600e+02 3.000e+00 ... 5.000e+00 2.500e+01 1.800e+01]\n",
            " [2.500e+01 2.350e+02 3.000e+00 ... 1.000e+00 1.000e+00 6.000e+00]\n",
            " [2.600e+01 1.142e+03 2.000e+00 ... 5.000e+00 0.000e+00 0.000e+00]\n",
            " ...\n",
            " [3.000e+01 1.995e+03 1.000e+00 ... 4.000e+00 7.000e+00 1.400e+01]\n",
            " [2.200e+01 1.000e+03 1.000e+00 ... 1.000e+00 0.000e+00 0.000e+00]\n",
            " [2.700e+01 1.723e+03 1.000e+00 ... 1.000e+00 0.000e+00 0.000e+00]] <class 'numpy.ndarray'>\n"
          ]
        }
      ]
    },
    {
      "cell_type": "markdown",
      "source": [
        "Convert numpy to dataframe with name"
      ],
      "metadata": {
        "id": "d6UCAhDUU3xn"
      },
      "id": "d6UCAhDUU3xn"
    },
    {
      "cell_type": "code",
      "source": [
        "num_df = pd.DataFrame(a, columns=numerical_columns)\n",
        "cat_df = pd.DataFrame(b, columns=categorical_columns)\n",
        "cat_data.isna().sum()\n",
        "# Maam one line num_imputed = pd.DataFrame(num_imputer.fit_transform(num_data), columns=numeric_features)"
      ],
      "metadata": {
        "id": "XHZ-B4noU6qP"
      },
      "id": "XHZ-B4noU6qP",
      "execution_count": null,
      "outputs": []
    },
    {
      "cell_type": "markdown",
      "source": [
        "Can mix these columns together now"
      ],
      "metadata": {
        "id": "jxTz3-wdVwXA"
      },
      "id": "jxTz3-wdVwXA"
    },
    {
      "cell_type": "code",
      "source": [
        "# Combine the imputed DataFrames\n",
        "df_after_imputation = pd.concat([num_df,cat_df],axis=1)\n",
        "# axis=1 → concatenate columns (stack data horizontally)\n",
        "df_after_imputation.isnull().sum().sum()"
      ],
      "metadata": {
        "id": "lwU1A001VyY9",
        "outputId": "bc430412-72c1-4b77-8b38-60d57a6121e1",
        "colab": {
          "base_uri": "https://localhost:8080/"
        }
      },
      "id": "lwU1A001VyY9",
      "execution_count": 60,
      "outputs": [
        {
          "output_type": "execute_result",
          "data": {
            "text/plain": [
              "np.int64(0)"
            ]
          },
          "metadata": {},
          "execution_count": 60
        }
      ]
    },
    {
      "cell_type": "markdown",
      "source": [
        "Remaining Missing Values: 0\n",
        "The dataset is now complete and ready for further analysis."
      ],
      "metadata": {
        "id": "vCLThkfcWZeE"
      },
      "id": "vCLThkfcWZeE"
    },
    {
      "cell_type": "code",
      "source": [],
      "metadata": {
        "id": "5zO-9AggWaBu"
      },
      "id": "5zO-9AggWaBu",
      "execution_count": null,
      "outputs": []
    }
  ],
  "metadata": {
    "colab": {
      "provenance": []
    },
    "kernelspec": {
      "display_name": "Python 3",
      "name": "python3"
    },
    "language_info": {
      "name": "python"
    }
  },
  "nbformat": 4,
  "nbformat_minor": 5
}