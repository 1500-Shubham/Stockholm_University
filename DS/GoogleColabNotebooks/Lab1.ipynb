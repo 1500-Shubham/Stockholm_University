{
  "cells": [
    {
      "cell_type": "markdown",
      "source": [
        "## Lab:1"
      ],
      "metadata": {
        "id": "5QtTbGaI_0Rv"
      },
      "id": "5QtTbGaI_0Rv"
    },
    {
      "cell_type": "code",
      "source": [],
      "metadata": {
        "id": "8P3DR3gi_2m8",
        "outputId": "24c2ac53-d95e-48e2-f6fe-84ed4530a9fb",
        "colab": {
          "base_uri": "https://localhost:8080/"
        }
      },
      "id": "8P3DR3gi_2m8",
      "execution_count": 1,
      "outputs": [
        {
          "output_type": "stream",
          "name": "stdout",
          "text": [
            "gey\n"
          ]
        }
      ]
    }
  ],
  "metadata": {
    "colab": {
      "provenance": []
    },
    "kernelspec": {
      "display_name": "Python 3",
      "name": "python3"
    },
    "language_info": {
      "name": "python"
    }
  },
  "nbformat": 4,
  "nbformat_minor": 5
}