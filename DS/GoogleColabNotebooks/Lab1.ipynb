{
  "cells": [
    {
      "cell_type": "markdown",
      "source": [
        "## Lab:1"
      ],
      "metadata": {
        "id": "5QtTbGaI_0Rv"
      },
      "id": "5QtTbGaI_0Rv"
    },
    {
      "cell_type": "markdown",
      "source": [
        "#### Classes, Object, Inheritance"
      ],
      "metadata": {
        "id": "SoVBr-tNBUFx"
      },
      "id": "SoVBr-tNBUFx"
    },
    {
      "cell_type": "code",
      "source": [
        "class Node:\n",
        "  def __init__(self,data):\n",
        "    self.data=data\n",
        "    self.next=None\n",
        "\n",
        "  def dummyInheritance(self):\n",
        "    print(\"Parent Called\",self.data)\n",
        "\n",
        "class LL:\n",
        "  def __init__(self):\n",
        "    self.head=None\n",
        "    self.tail=None\n",
        "\n",
        "  def add(self,node):\n",
        "    if self.head is None:\n",
        "      self.head=node\n",
        "      self.tail=node\n",
        "    else:\n",
        "      self.tail.next=node\n",
        "      self.tail=node\n",
        "\n",
        "  def print(self):\n",
        "    temp = self.head\n",
        "    while temp is not None:\n",
        "      print(temp.data)\n",
        "      temp = temp.next\n",
        "\n",
        "linkedlist= LL()\n",
        "node = Node(1)\n",
        "\n",
        "linkedlist.add(node)\n",
        "node = Node(2)\n",
        "linkedlist.add(node)\n",
        "node = Node(3)\n",
        "linkedlist.add(node)\n",
        "node = Node(4)\n",
        "linkedlist.add(node)\n",
        "node = Node(5)\n",
        "linkedlist.add(node)\n",
        "\n",
        "linkedlist.print()\n"
      ],
      "metadata": {
        "colab": {
          "base_uri": "https://localhost:8080/"
        },
        "id": "8P3DR3gi_2m8",
        "outputId": "80d8c9f7-03f9-4f4e-d334-412a86b3e1af"
      },
      "id": "8P3DR3gi_2m8",
      "execution_count": 13,
      "outputs": [
        {
          "output_type": "stream",
          "name": "stdout",
          "text": [
            "1\n",
            "2\n",
            "3\n",
            "4\n",
            "5\n"
          ]
        }
      ]
    },
    {
      "cell_type": "markdown",
      "source": [
        "Inheritance"
      ],
      "metadata": {
        "id": "06WtZSsSBlU4"
      },
      "id": "06WtZSsSBlU4"
    },
    {
      "cell_type": "code",
      "source": [
        "class Node2(Node):\n",
        "  def __init__(self):\n",
        "    super().__init__(2) # this help declare variables of self in Node Parent\n",
        "\n",
        "node2= Node2()\n",
        "node2.dummyInheritance()\n",
        "node2.data\n",
        "\n",
        "# if need to use Node (data and next variable from parent then use)"
      ],
      "metadata": {
        "id": "PF7HmLMIBmRy",
        "outputId": "b705a88c-c990-4cb2-a17c-85b5ca754d7d",
        "colab": {
          "base_uri": "https://localhost:8080/"
        }
      },
      "id": "PF7HmLMIBmRy",
      "execution_count": 15,
      "outputs": [
        {
          "output_type": "stream",
          "name": "stdout",
          "text": [
            "Parent Called 2\n"
          ]
        },
        {
          "output_type": "execute_result",
          "data": {
            "text/plain": [
              "2"
            ]
          },
          "metadata": {},
          "execution_count": 15
        }
      ]
    },
    {
      "cell_type": "markdown",
      "source": [
        "Abstraction\n",
        "- Abstraction = Hiding implementation details and exposing only the necessary functionality.\n",
        "\n",
        "- In Python, abstraction is usually achieved using abstract base classes (ABCs) from the abc module.\n",
        "\n",
        "- If your class only provides behavior (methods) and doesn’t need to store any object-specific data, you can skip __init__."
      ],
      "metadata": {
        "id": "Y3xes5uHDmFx"
      },
      "id": "Y3xes5uHDmFx"
    },
    {
      "cell_type": "code",
      "source": [
        "from abc import ABC, abstractmethod\n",
        "\n",
        "class Animal(ABC):\n",
        "    @abstractmethod\n",
        "    def make_sound(self):\n",
        "        pass\n",
        "\n",
        "class Dog(Animal):\n",
        "    def make_sound(self):\n",
        "        print(\"Woof!\")\n",
        "\n",
        "dog = Dog()\n",
        "dog.make_sound()"
      ],
      "metadata": {
        "id": "bp1-4LOqCam6",
        "outputId": "0914bb67-a92a-4ee1-dde3-67921d8d4227",
        "colab": {
          "base_uri": "https://localhost:8080/"
        }
      },
      "id": "bp1-4LOqCam6",
      "execution_count": 17,
      "outputs": [
        {
          "output_type": "stream",
          "name": "stdout",
          "text": [
            "Woof!\n"
          ]
        }
      ]
    }
  ],
  "metadata": {
    "colab": {
      "provenance": []
    },
    "kernelspec": {
      "display_name": "Python 3",
      "name": "python3"
    },
    "language_info": {
      "name": "python"
    }
  },
  "nbformat": 4,
  "nbformat_minor": 5
}